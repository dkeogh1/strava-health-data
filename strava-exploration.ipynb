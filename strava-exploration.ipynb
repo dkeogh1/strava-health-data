{
 "cells": [
  {
   "cell_type": "code",
   "execution_count": 1,
   "metadata": {},
   "outputs": [],
   "source": [
    "import sklearn\n",
    "import numpy as np\n",
    "\n",
    "import os\n",
    "import json"
   ]
  },
  {
   "cell_type": "code",
   "execution_count": 2,
   "metadata": {},
   "outputs": [],
   "source": [
    "import matplotlib.pyplot as plt\n",
    "%matplotlib inline\n",
    "plt.style.use('fivethirtyeight')\n",
    "import pandas as pd\n",
    "import seaborn as sns"
   ]
  },
  {
   "cell_type": "code",
   "execution_count": 3,
   "metadata": {},
   "outputs": [],
   "source": [
    "import warnings\n",
    "warnings.filterwarnings('ignore')"
   ]
  },
  {
   "cell_type": "code",
   "execution_count": 4,
   "metadata": {},
   "outputs": [],
   "source": [
    "from sklearn.ensemble import RandomForestRegressor\n",
    "from sklearn.model_selection import train_test_split\n",
    "from sklearn.multioutput import MultiOutputRegressor"
   ]
  },
  {
   "cell_type": "markdown",
   "metadata": {},
   "source": [
    "## FitBit Sleep Data"
   ]
  },
  {
   "cell_type": "code",
   "execution_count": 5,
   "metadata": {},
   "outputs": [],
   "source": [
    "sleep_dir = os.walk('Sleep')"
   ]
  },
  {
   "cell_type": "code",
   "execution_count": 6,
   "metadata": {},
   "outputs": [],
   "source": [
    "sleep_jsons = []\n",
    "for root, dirs, files in sleep_dir:\n",
    "    for name in files:\n",
    "        file = os.path.join(root, name)\n",
    "        if 'json' in file:\n",
    "            sleep_jsons.append(os.path.join(root, name)) \n",
    "    for name in dirs:\n",
    "        print(os.path.join(root, name))"
   ]
  },
  {
   "cell_type": "code",
   "execution_count": 7,
   "metadata": {},
   "outputs": [],
   "source": [
    "sleep_info = []\n",
    "for j in sleep_jsons:\n",
    "    f = json.load(open(j,'r'))\n",
    "    for s in f:\n",
    "        if s['mainSleep']:\n",
    "            try:\n",
    "                date_dict = {}\n",
    "                for i in s: \n",
    "                    if i == 'dateOfSleep':\n",
    "                        date_dict['date'] = s[i]\n",
    "                    elif i =='levels':\n",
    "                        date_dict['deep'] = s[i]['summary']['deep']['minutes']\n",
    "                        date_dict['wake'] = s[i]['summary']['wake']['minutes']\n",
    "                        date_dict['light'] = s[i]['summary']['light']['minutes']\n",
    "                        date_dict['rem'] = s[i]['summary']['rem']['minutes']\n",
    "                sleep_info.append(date_dict)\n",
    "            except:\n",
    "                KeyError"
   ]
  },
  {
   "cell_type": "code",
   "execution_count": 8,
   "metadata": {},
   "outputs": [],
   "source": [
    "sleep_df = pd.DataFrame(data=sleep_info,columns=['date','deep','wake','light','rem'])"
   ]
  },
  {
   "cell_type": "code",
   "execution_count": 9,
   "metadata": {},
   "outputs": [],
   "source": [
    "sleep_df['date'] = pd.to_datetime(sleep_df['date'])\n",
    "sleep_df.sort_values(by='date', inplace=True)\n",
    "sleep_df['date'] = sleep_df['date'].astype('str')"
   ]
  },
  {
   "cell_type": "code",
   "execution_count": 10,
   "metadata": {},
   "outputs": [
    {
     "data": {
      "text/html": [
       "<div>\n",
       "<style scoped>\n",
       "    .dataframe tbody tr th:only-of-type {\n",
       "        vertical-align: middle;\n",
       "    }\n",
       "\n",
       "    .dataframe tbody tr th {\n",
       "        vertical-align: top;\n",
       "    }\n",
       "\n",
       "    .dataframe thead th {\n",
       "        text-align: right;\n",
       "    }\n",
       "</style>\n",
       "<table border=\"1\" class=\"dataframe\">\n",
       "  <thead>\n",
       "    <tr style=\"text-align: right;\">\n",
       "      <th></th>\n",
       "      <th>date</th>\n",
       "      <th>deep</th>\n",
       "      <th>wake</th>\n",
       "      <th>light</th>\n",
       "      <th>rem</th>\n",
       "    </tr>\n",
       "  </thead>\n",
       "  <tbody>\n",
       "    <tr>\n",
       "      <td>44</td>\n",
       "      <td>2017-12-17</td>\n",
       "      <td>40</td>\n",
       "      <td>69</td>\n",
       "      <td>188</td>\n",
       "      <td>73</td>\n",
       "    </tr>\n",
       "    <tr>\n",
       "      <td>43</td>\n",
       "      <td>2017-12-18</td>\n",
       "      <td>53</td>\n",
       "      <td>66</td>\n",
       "      <td>208</td>\n",
       "      <td>115</td>\n",
       "    </tr>\n",
       "    <tr>\n",
       "      <td>42</td>\n",
       "      <td>2017-12-19</td>\n",
       "      <td>57</td>\n",
       "      <td>73</td>\n",
       "      <td>208</td>\n",
       "      <td>138</td>\n",
       "    </tr>\n",
       "    <tr>\n",
       "      <td>11</td>\n",
       "      <td>2019-07-08</td>\n",
       "      <td>55</td>\n",
       "      <td>83</td>\n",
       "      <td>281</td>\n",
       "      <td>64</td>\n",
       "    </tr>\n",
       "    <tr>\n",
       "      <td>10</td>\n",
       "      <td>2019-07-09</td>\n",
       "      <td>57</td>\n",
       "      <td>59</td>\n",
       "      <td>239</td>\n",
       "      <td>38</td>\n",
       "    </tr>\n",
       "  </tbody>\n",
       "</table>\n",
       "</div>"
      ],
      "text/plain": [
       "          date  deep  wake  light  rem\n",
       "44  2017-12-17    40    69    188   73\n",
       "43  2017-12-18    53    66    208  115\n",
       "42  2017-12-19    57    73    208  138\n",
       "11  2019-07-08    55    83    281   64\n",
       "10  2019-07-09    57    59    239   38"
      ]
     },
     "execution_count": 10,
     "metadata": {},
     "output_type": "execute_result"
    }
   ],
   "source": [
    "sleep_df.head()"
   ]
  },
  {
   "cell_type": "markdown",
   "metadata": {},
   "source": [
    "## Strava Data Time"
   ]
  },
  {
   "cell_type": "code",
   "execution_count": 11,
   "metadata": {},
   "outputs": [],
   "source": [
    "strava_df = pd.read_csv('./stravadata.csv')"
   ]
  },
  {
   "cell_type": "code",
   "execution_count": 12,
   "metadata": {},
   "outputs": [],
   "source": [
    "strava_df.drop(columns=['Unnamed: 0'], inplace=True)"
   ]
  },
  {
   "cell_type": "code",
   "execution_count": 13,
   "metadata": {},
   "outputs": [
    {
     "data": {
      "text/html": [
       "<div>\n",
       "<style scoped>\n",
       "    .dataframe tbody tr th:only-of-type {\n",
       "        vertical-align: middle;\n",
       "    }\n",
       "\n",
       "    .dataframe tbody tr th {\n",
       "        vertical-align: top;\n",
       "    }\n",
       "\n",
       "    .dataframe thead th {\n",
       "        text-align: right;\n",
       "    }\n",
       "</style>\n",
       "<table border=\"1\" class=\"dataframe\">\n",
       "  <thead>\n",
       "    <tr style=\"text-align: right;\">\n",
       "      <th></th>\n",
       "      <th>average_speed</th>\n",
       "      <th>average_heartrate</th>\n",
       "      <th>average_watts</th>\n",
       "      <th>distance</th>\n",
       "      <th>moving_time</th>\n",
       "      <th>total_elevation_gain</th>\n",
       "      <th>type</th>\n",
       "      <th>start_date_local</th>\n",
       "    </tr>\n",
       "  </thead>\n",
       "  <tbody>\n",
       "    <tr>\n",
       "      <td>0</td>\n",
       "      <td>3.489</td>\n",
       "      <td>180.6</td>\n",
       "      <td>NaN</td>\n",
       "      <td>9930.8</td>\n",
       "      <td>0:47:26</td>\n",
       "      <td>86.0</td>\n",
       "      <td>Run</td>\n",
       "      <td>2020-09-23T18:30:44</td>\n",
       "    </tr>\n",
       "    <tr>\n",
       "      <td>1</td>\n",
       "      <td>3.595</td>\n",
       "      <td>170.0</td>\n",
       "      <td>NaN</td>\n",
       "      <td>7746.9</td>\n",
       "      <td>0:35:55</td>\n",
       "      <td>81.0</td>\n",
       "      <td>Run</td>\n",
       "      <td>2020-09-21T17:57:51</td>\n",
       "    </tr>\n",
       "    <tr>\n",
       "      <td>2</td>\n",
       "      <td>7.588</td>\n",
       "      <td>150.9</td>\n",
       "      <td>126.4</td>\n",
       "      <td>74781.0</td>\n",
       "      <td>2:44:15</td>\n",
       "      <td>401.0</td>\n",
       "      <td>Ride</td>\n",
       "      <td>2020-09-20T13:24:11</td>\n",
       "    </tr>\n",
       "    <tr>\n",
       "      <td>3</td>\n",
       "      <td>3.411</td>\n",
       "      <td>169.6</td>\n",
       "      <td>NaN</td>\n",
       "      <td>11109.6</td>\n",
       "      <td>0:54:17</td>\n",
       "      <td>63.0</td>\n",
       "      <td>Run</td>\n",
       "      <td>2020-09-19T10:17:15</td>\n",
       "    </tr>\n",
       "    <tr>\n",
       "      <td>4</td>\n",
       "      <td>8.133</td>\n",
       "      <td>168.2</td>\n",
       "      <td>138.9</td>\n",
       "      <td>34313.0</td>\n",
       "      <td>1:10:19</td>\n",
       "      <td>77.0</td>\n",
       "      <td>Ride</td>\n",
       "      <td>2020-09-17T16:40:09</td>\n",
       "    </tr>\n",
       "  </tbody>\n",
       "</table>\n",
       "</div>"
      ],
      "text/plain": [
       "   average_speed  average_heartrate  average_watts  distance moving_time  \\\n",
       "0          3.489              180.6            NaN    9930.8     0:47:26   \n",
       "1          3.595              170.0            NaN    7746.9     0:35:55   \n",
       "2          7.588              150.9          126.4   74781.0     2:44:15   \n",
       "3          3.411              169.6            NaN   11109.6     0:54:17   \n",
       "4          8.133              168.2          138.9   34313.0     1:10:19   \n",
       "\n",
       "   total_elevation_gain  type     start_date_local  \n",
       "0                  86.0   Run  2020-09-23T18:30:44  \n",
       "1                  81.0   Run  2020-09-21T17:57:51  \n",
       "2                 401.0  Ride  2020-09-20T13:24:11  \n",
       "3                  63.0   Run  2020-09-19T10:17:15  \n",
       "4                  77.0  Ride  2020-09-17T16:40:09  "
      ]
     },
     "execution_count": 13,
     "metadata": {},
     "output_type": "execute_result"
    }
   ],
   "source": [
    "strava_df.head()"
   ]
  },
  {
   "cell_type": "code",
   "execution_count": 14,
   "metadata": {},
   "outputs": [],
   "source": [
    "strava_df = strava_df[strava_df['type'].isin(['Ride','Run'])]"
   ]
  },
  {
   "cell_type": "code",
   "execution_count": 15,
   "metadata": {},
   "outputs": [],
   "source": [
    "strava_df['average_watts'] = np.where(strava_df['average_watts'].isna(), 0, strava_df['average_watts'])"
   ]
  },
  {
   "cell_type": "code",
   "execution_count": 16,
   "metadata": {},
   "outputs": [],
   "source": [
    "def convert_str_to_second(time):\n",
    "    h, m, s = time.split(':')\n",
    "    h = int(h)\n",
    "    m = int(m)\n",
    "    s = int(s)\n",
    "    totalseconds = (h*3600) + (m*60) + (s)\n",
    "    return totalseconds"
   ]
  },
  {
   "cell_type": "code",
   "execution_count": 17,
   "metadata": {},
   "outputs": [],
   "source": [
    "def get_minutes(time_str):\n",
    "    h, m, s = time_str.split(':') \n",
    "    total_min = int(h)*60+int(m)+int(s)/60\n",
    "    return int(total_min)"
   ]
  },
  {
   "cell_type": "code",
   "execution_count": 18,
   "metadata": {},
   "outputs": [],
   "source": [
    "strava_df['total_seconds'] = strava_df['moving_time'].apply(lambda x: convert_str_to_second(x))\n",
    "strava_df['total_minutes'] = strava_df['moving_time'].apply(lambda x: get_minutes(x))\n",
    "\n",
    "strava_df['distance'] = strava_df['distance']/1609.34\n",
    "strava_df['average_speed'] = strava_df['average_speed'] * 2.23694\n",
    "strava_df['average_speed']  = strava_df['average_speed'].round(2)\n",
    "\n",
    "strava_df['miles/sec'] = strava_df['distance']/strava_df['total_seconds']\n",
    "\n",
    "strava_df['miles/hr'] = strava_df['miles/sec']*3600\n",
    "\n",
    "strava_df_hr_data = strava_df[strava_df['average_heartrate'].notnull()]\n",
    "strava_df_no_hr_data = strava_df[strava_df['average_heartrate'].isna()]"
   ]
  },
  {
   "cell_type": "code",
   "execution_count": 19,
   "metadata": {},
   "outputs": [
    {
     "data": {
      "text/plain": [
       "str"
      ]
     },
     "execution_count": 19,
     "metadata": {},
     "output_type": "execute_result"
    }
   ],
   "source": [
    "type(strava_df['start_date_local'][0])"
   ]
  },
  {
   "cell_type": "code",
   "execution_count": 20,
   "metadata": {},
   "outputs": [],
   "source": [
    "strava_df['date'] = pd.to_datetime(strava_df['start_date_local']).dt.date\n",
    "strava_df['date'] = strava_df['date'].astype('str')"
   ]
  },
  {
   "cell_type": "code",
   "execution_count": 21,
   "metadata": {},
   "outputs": [
    {
     "data": {
      "text/html": [
       "<div>\n",
       "<style scoped>\n",
       "    .dataframe tbody tr th:only-of-type {\n",
       "        vertical-align: middle;\n",
       "    }\n",
       "\n",
       "    .dataframe tbody tr th {\n",
       "        vertical-align: top;\n",
       "    }\n",
       "\n",
       "    .dataframe thead th {\n",
       "        text-align: right;\n",
       "    }\n",
       "</style>\n",
       "<table border=\"1\" class=\"dataframe\">\n",
       "  <thead>\n",
       "    <tr style=\"text-align: right;\">\n",
       "      <th></th>\n",
       "      <th>average_speed</th>\n",
       "      <th>average_heartrate</th>\n",
       "      <th>average_watts</th>\n",
       "      <th>distance</th>\n",
       "      <th>moving_time</th>\n",
       "      <th>total_elevation_gain</th>\n",
       "      <th>type</th>\n",
       "      <th>start_date_local</th>\n",
       "      <th>total_seconds</th>\n",
       "      <th>total_minutes</th>\n",
       "      <th>miles/sec</th>\n",
       "      <th>miles/hr</th>\n",
       "      <th>date</th>\n",
       "    </tr>\n",
       "  </thead>\n",
       "  <tbody>\n",
       "    <tr>\n",
       "      <td>0</td>\n",
       "      <td>7.80</td>\n",
       "      <td>180.6</td>\n",
       "      <td>0.0</td>\n",
       "      <td>6.170728</td>\n",
       "      <td>0:47:26</td>\n",
       "      <td>86.0</td>\n",
       "      <td>Run</td>\n",
       "      <td>2020-09-23T18:30:44</td>\n",
       "      <td>2846</td>\n",
       "      <td>47</td>\n",
       "      <td>0.002168</td>\n",
       "      <td>7.805559</td>\n",
       "      <td>2020-09-23</td>\n",
       "    </tr>\n",
       "    <tr>\n",
       "      <td>1</td>\n",
       "      <td>8.04</td>\n",
       "      <td>170.0</td>\n",
       "      <td>0.0</td>\n",
       "      <td>4.813712</td>\n",
       "      <td>0:35:55</td>\n",
       "      <td>81.0</td>\n",
       "      <td>Run</td>\n",
       "      <td>2020-09-21T17:57:51</td>\n",
       "      <td>2155</td>\n",
       "      <td>35</td>\n",
       "      <td>0.002234</td>\n",
       "      <td>8.041469</td>\n",
       "      <td>2020-09-21</td>\n",
       "    </tr>\n",
       "    <tr>\n",
       "      <td>2</td>\n",
       "      <td>16.97</td>\n",
       "      <td>150.9</td>\n",
       "      <td>126.4</td>\n",
       "      <td>46.466875</td>\n",
       "      <td>2:44:15</td>\n",
       "      <td>401.0</td>\n",
       "      <td>Ride</td>\n",
       "      <td>2020-09-20T13:24:11</td>\n",
       "      <td>9855</td>\n",
       "      <td>164</td>\n",
       "      <td>0.004715</td>\n",
       "      <td>16.974201</td>\n",
       "      <td>2020-09-20</td>\n",
       "    </tr>\n",
       "    <tr>\n",
       "      <td>3</td>\n",
       "      <td>7.63</td>\n",
       "      <td>169.6</td>\n",
       "      <td>0.0</td>\n",
       "      <td>6.903203</td>\n",
       "      <td>0:54:17</td>\n",
       "      <td>63.0</td>\n",
       "      <td>Run</td>\n",
       "      <td>2020-09-19T10:17:15</td>\n",
       "      <td>3257</td>\n",
       "      <td>54</td>\n",
       "      <td>0.002119</td>\n",
       "      <td>7.630190</td>\n",
       "      <td>2020-09-19</td>\n",
       "    </tr>\n",
       "    <tr>\n",
       "      <td>4</td>\n",
       "      <td>18.19</td>\n",
       "      <td>168.2</td>\n",
       "      <td>138.9</td>\n",
       "      <td>21.321163</td>\n",
       "      <td>1:10:19</td>\n",
       "      <td>77.0</td>\n",
       "      <td>Ride</td>\n",
       "      <td>2020-09-17T16:40:09</td>\n",
       "      <td>4219</td>\n",
       "      <td>70</td>\n",
       "      <td>0.005054</td>\n",
       "      <td>18.192981</td>\n",
       "      <td>2020-09-17</td>\n",
       "    </tr>\n",
       "    <tr>\n",
       "      <td>...</td>\n",
       "      <td>...</td>\n",
       "      <td>...</td>\n",
       "      <td>...</td>\n",
       "      <td>...</td>\n",
       "      <td>...</td>\n",
       "      <td>...</td>\n",
       "      <td>...</td>\n",
       "      <td>...</td>\n",
       "      <td>...</td>\n",
       "      <td>...</td>\n",
       "      <td>...</td>\n",
       "      <td>...</td>\n",
       "      <td>...</td>\n",
       "    </tr>\n",
       "    <tr>\n",
       "      <td>352</td>\n",
       "      <td>13.67</td>\n",
       "      <td>NaN</td>\n",
       "      <td>99.3</td>\n",
       "      <td>28.306200</td>\n",
       "      <td>2:04:13</td>\n",
       "      <td>109.5</td>\n",
       "      <td>Ride</td>\n",
       "      <td>2016-06-27T18:37:46</td>\n",
       "      <td>7453</td>\n",
       "      <td>124</td>\n",
       "      <td>0.003798</td>\n",
       "      <td>13.672658</td>\n",
       "      <td>2016-06-27</td>\n",
       "    </tr>\n",
       "    <tr>\n",
       "      <td>353</td>\n",
       "      <td>14.41</td>\n",
       "      <td>NaN</td>\n",
       "      <td>118.9</td>\n",
       "      <td>28.683622</td>\n",
       "      <td>1:59:25</td>\n",
       "      <td>261.8</td>\n",
       "      <td>Ride</td>\n",
       "      <td>2016-06-24T18:25:31</td>\n",
       "      <td>7165</td>\n",
       "      <td>119</td>\n",
       "      <td>0.004003</td>\n",
       "      <td>14.411869</td>\n",
       "      <td>2016-06-24</td>\n",
       "    </tr>\n",
       "    <tr>\n",
       "      <td>354</td>\n",
       "      <td>14.68</td>\n",
       "      <td>NaN</td>\n",
       "      <td>115.4</td>\n",
       "      <td>26.068140</td>\n",
       "      <td>1:46:32</td>\n",
       "      <td>226.7</td>\n",
       "      <td>Ride</td>\n",
       "      <td>2016-06-22T05:24:30</td>\n",
       "      <td>6392</td>\n",
       "      <td>106</td>\n",
       "      <td>0.004078</td>\n",
       "      <td>14.681681</td>\n",
       "      <td>2016-06-22</td>\n",
       "    </tr>\n",
       "    <tr>\n",
       "      <td>355</td>\n",
       "      <td>13.52</td>\n",
       "      <td>NaN</td>\n",
       "      <td>99.8</td>\n",
       "      <td>18.287310</td>\n",
       "      <td>1:21:08</td>\n",
       "      <td>147.6</td>\n",
       "      <td>Ride</td>\n",
       "      <td>2016-06-21T05:57:06</td>\n",
       "      <td>4868</td>\n",
       "      <td>81</td>\n",
       "      <td>0.003757</td>\n",
       "      <td>13.523894</td>\n",
       "      <td>2016-06-21</td>\n",
       "    </tr>\n",
       "    <tr>\n",
       "      <td>356</td>\n",
       "      <td>14.76</td>\n",
       "      <td>NaN</td>\n",
       "      <td>0.0</td>\n",
       "      <td>25.352629</td>\n",
       "      <td>1:43:02</td>\n",
       "      <td>99.7</td>\n",
       "      <td>Ride</td>\n",
       "      <td>2016-06-20T17:55:23</td>\n",
       "      <td>6182</td>\n",
       "      <td>103</td>\n",
       "      <td>0.004101</td>\n",
       "      <td>14.763744</td>\n",
       "      <td>2016-06-20</td>\n",
       "    </tr>\n",
       "  </tbody>\n",
       "</table>\n",
       "<p>356 rows × 13 columns</p>\n",
       "</div>"
      ],
      "text/plain": [
       "     average_speed  average_heartrate  average_watts   distance moving_time  \\\n",
       "0             7.80              180.6            0.0   6.170728     0:47:26   \n",
       "1             8.04              170.0            0.0   4.813712     0:35:55   \n",
       "2            16.97              150.9          126.4  46.466875     2:44:15   \n",
       "3             7.63              169.6            0.0   6.903203     0:54:17   \n",
       "4            18.19              168.2          138.9  21.321163     1:10:19   \n",
       "..             ...                ...            ...        ...         ...   \n",
       "352          13.67                NaN           99.3  28.306200     2:04:13   \n",
       "353          14.41                NaN          118.9  28.683622     1:59:25   \n",
       "354          14.68                NaN          115.4  26.068140     1:46:32   \n",
       "355          13.52                NaN           99.8  18.287310     1:21:08   \n",
       "356          14.76                NaN            0.0  25.352629     1:43:02   \n",
       "\n",
       "     total_elevation_gain  type     start_date_local  total_seconds  \\\n",
       "0                    86.0   Run  2020-09-23T18:30:44           2846   \n",
       "1                    81.0   Run  2020-09-21T17:57:51           2155   \n",
       "2                   401.0  Ride  2020-09-20T13:24:11           9855   \n",
       "3                    63.0   Run  2020-09-19T10:17:15           3257   \n",
       "4                    77.0  Ride  2020-09-17T16:40:09           4219   \n",
       "..                    ...   ...                  ...            ...   \n",
       "352                 109.5  Ride  2016-06-27T18:37:46           7453   \n",
       "353                 261.8  Ride  2016-06-24T18:25:31           7165   \n",
       "354                 226.7  Ride  2016-06-22T05:24:30           6392   \n",
       "355                 147.6  Ride  2016-06-21T05:57:06           4868   \n",
       "356                  99.7  Ride  2016-06-20T17:55:23           6182   \n",
       "\n",
       "     total_minutes  miles/sec   miles/hr        date  \n",
       "0               47   0.002168   7.805559  2020-09-23  \n",
       "1               35   0.002234   8.041469  2020-09-21  \n",
       "2              164   0.004715  16.974201  2020-09-20  \n",
       "3               54   0.002119   7.630190  2020-09-19  \n",
       "4               70   0.005054  18.192981  2020-09-17  \n",
       "..             ...        ...        ...         ...  \n",
       "352            124   0.003798  13.672658  2016-06-27  \n",
       "353            119   0.004003  14.411869  2016-06-24  \n",
       "354            106   0.004078  14.681681  2016-06-22  \n",
       "355             81   0.003757  13.523894  2016-06-21  \n",
       "356            103   0.004101  14.763744  2016-06-20  \n",
       "\n",
       "[356 rows x 13 columns]"
      ]
     },
     "execution_count": 21,
     "metadata": {},
     "output_type": "execute_result"
    }
   ],
   "source": [
    "strava_df"
   ]
  },
  {
   "cell_type": "code",
   "execution_count": 22,
   "metadata": {},
   "outputs": [],
   "source": [
    "strava_df = strava_df.merge(sleep_df, on='date', how='right')"
   ]
  },
  {
   "cell_type": "code",
   "execution_count": 23,
   "metadata": {},
   "outputs": [],
   "source": [
    "strava_df.sort_values(by='date', inplace=True)"
   ]
  },
  {
   "cell_type": "code",
   "execution_count": 24,
   "metadata": {},
   "outputs": [
    {
     "data": {
      "text/html": [
       "<div>\n",
       "<style scoped>\n",
       "    .dataframe tbody tr th:only-of-type {\n",
       "        vertical-align: middle;\n",
       "    }\n",
       "\n",
       "    .dataframe tbody tr th {\n",
       "        vertical-align: top;\n",
       "    }\n",
       "\n",
       "    .dataframe thead th {\n",
       "        text-align: right;\n",
       "    }\n",
       "</style>\n",
       "<table border=\"1\" class=\"dataframe\">\n",
       "  <thead>\n",
       "    <tr style=\"text-align: right;\">\n",
       "      <th></th>\n",
       "      <th>average_speed</th>\n",
       "      <th>average_heartrate</th>\n",
       "      <th>average_watts</th>\n",
       "      <th>distance</th>\n",
       "      <th>moving_time</th>\n",
       "      <th>total_elevation_gain</th>\n",
       "      <th>type</th>\n",
       "      <th>start_date_local</th>\n",
       "      <th>total_seconds</th>\n",
       "      <th>total_minutes</th>\n",
       "      <th>miles/sec</th>\n",
       "      <th>miles/hr</th>\n",
       "      <th>date</th>\n",
       "      <th>deep</th>\n",
       "      <th>wake</th>\n",
       "      <th>light</th>\n",
       "      <th>rem</th>\n",
       "    </tr>\n",
       "  </thead>\n",
       "  <tbody>\n",
       "    <tr>\n",
       "      <td>223</td>\n",
       "      <td>NaN</td>\n",
       "      <td>NaN</td>\n",
       "      <td>NaN</td>\n",
       "      <td>NaN</td>\n",
       "      <td>NaN</td>\n",
       "      <td>NaN</td>\n",
       "      <td>NaN</td>\n",
       "      <td>NaN</td>\n",
       "      <td>NaN</td>\n",
       "      <td>NaN</td>\n",
       "      <td>NaN</td>\n",
       "      <td>NaN</td>\n",
       "      <td>2017-12-17</td>\n",
       "      <td>40</td>\n",
       "      <td>69</td>\n",
       "      <td>188</td>\n",
       "      <td>73</td>\n",
       "    </tr>\n",
       "    <tr>\n",
       "      <td>224</td>\n",
       "      <td>NaN</td>\n",
       "      <td>NaN</td>\n",
       "      <td>NaN</td>\n",
       "      <td>NaN</td>\n",
       "      <td>NaN</td>\n",
       "      <td>NaN</td>\n",
       "      <td>NaN</td>\n",
       "      <td>NaN</td>\n",
       "      <td>NaN</td>\n",
       "      <td>NaN</td>\n",
       "      <td>NaN</td>\n",
       "      <td>NaN</td>\n",
       "      <td>2017-12-18</td>\n",
       "      <td>53</td>\n",
       "      <td>66</td>\n",
       "      <td>208</td>\n",
       "      <td>115</td>\n",
       "    </tr>\n",
       "    <tr>\n",
       "      <td>225</td>\n",
       "      <td>NaN</td>\n",
       "      <td>NaN</td>\n",
       "      <td>NaN</td>\n",
       "      <td>NaN</td>\n",
       "      <td>NaN</td>\n",
       "      <td>NaN</td>\n",
       "      <td>NaN</td>\n",
       "      <td>NaN</td>\n",
       "      <td>NaN</td>\n",
       "      <td>NaN</td>\n",
       "      <td>NaN</td>\n",
       "      <td>NaN</td>\n",
       "      <td>2017-12-19</td>\n",
       "      <td>57</td>\n",
       "      <td>73</td>\n",
       "      <td>208</td>\n",
       "      <td>138</td>\n",
       "    </tr>\n",
       "    <tr>\n",
       "      <td>222</td>\n",
       "      <td>13.79</td>\n",
       "      <td>NaN</td>\n",
       "      <td>116.8</td>\n",
       "      <td>8.793481</td>\n",
       "      <td>0:38:16</td>\n",
       "      <td>200.5</td>\n",
       "      <td>Ride</td>\n",
       "      <td>2019-07-08T18:32:20</td>\n",
       "      <td>2296.0</td>\n",
       "      <td>38.0</td>\n",
       "      <td>0.003830</td>\n",
       "      <td>13.787687</td>\n",
       "      <td>2019-07-08</td>\n",
       "      <td>55</td>\n",
       "      <td>83</td>\n",
       "      <td>281</td>\n",
       "      <td>64</td>\n",
       "    </tr>\n",
       "    <tr>\n",
       "      <td>226</td>\n",
       "      <td>NaN</td>\n",
       "      <td>NaN</td>\n",
       "      <td>NaN</td>\n",
       "      <td>NaN</td>\n",
       "      <td>NaN</td>\n",
       "      <td>NaN</td>\n",
       "      <td>NaN</td>\n",
       "      <td>NaN</td>\n",
       "      <td>NaN</td>\n",
       "      <td>NaN</td>\n",
       "      <td>NaN</td>\n",
       "      <td>NaN</td>\n",
       "      <td>2019-07-09</td>\n",
       "      <td>57</td>\n",
       "      <td>59</td>\n",
       "      <td>239</td>\n",
       "      <td>38</td>\n",
       "    </tr>\n",
       "    <tr>\n",
       "      <td>...</td>\n",
       "      <td>...</td>\n",
       "      <td>...</td>\n",
       "      <td>...</td>\n",
       "      <td>...</td>\n",
       "      <td>...</td>\n",
       "      <td>...</td>\n",
       "      <td>...</td>\n",
       "      <td>...</td>\n",
       "      <td>...</td>\n",
       "      <td>...</td>\n",
       "      <td>...</td>\n",
       "      <td>...</td>\n",
       "      <td>...</td>\n",
       "      <td>...</td>\n",
       "      <td>...</td>\n",
       "      <td>...</td>\n",
       "      <td>...</td>\n",
       "    </tr>\n",
       "    <tr>\n",
       "      <td>4</td>\n",
       "      <td>5.38</td>\n",
       "      <td>NaN</td>\n",
       "      <td>0.0</td>\n",
       "      <td>7.880125</td>\n",
       "      <td>1:27:48</td>\n",
       "      <td>544.9</td>\n",
       "      <td>Run</td>\n",
       "      <td>2020-08-19T17:06:21</td>\n",
       "      <td>5268.0</td>\n",
       "      <td>87.0</td>\n",
       "      <td>0.001496</td>\n",
       "      <td>5.385051</td>\n",
       "      <td>2020-08-19</td>\n",
       "      <td>68</td>\n",
       "      <td>92</td>\n",
       "      <td>247</td>\n",
       "      <td>98</td>\n",
       "    </tr>\n",
       "    <tr>\n",
       "      <td>3</td>\n",
       "      <td>8.35</td>\n",
       "      <td>NaN</td>\n",
       "      <td>0.0</td>\n",
       "      <td>2.939031</td>\n",
       "      <td>0:21:07</td>\n",
       "      <td>42.4</td>\n",
       "      <td>Run</td>\n",
       "      <td>2020-08-20T17:02:36</td>\n",
       "      <td>1267.0</td>\n",
       "      <td>21.0</td>\n",
       "      <td>0.002320</td>\n",
       "      <td>8.350838</td>\n",
       "      <td>2020-08-20</td>\n",
       "      <td>88</td>\n",
       "      <td>65</td>\n",
       "      <td>275</td>\n",
       "      <td>80</td>\n",
       "    </tr>\n",
       "    <tr>\n",
       "      <td>2</td>\n",
       "      <td>7.84</td>\n",
       "      <td>NaN</td>\n",
       "      <td>161.1</td>\n",
       "      <td>4.701493</td>\n",
       "      <td>0:35:59</td>\n",
       "      <td>479.0</td>\n",
       "      <td>Ride</td>\n",
       "      <td>2020-08-21T16:47:24</td>\n",
       "      <td>2159.0</td>\n",
       "      <td>35.0</td>\n",
       "      <td>0.002178</td>\n",
       "      <td>7.839450</td>\n",
       "      <td>2020-08-21</td>\n",
       "      <td>70</td>\n",
       "      <td>85</td>\n",
       "      <td>279</td>\n",
       "      <td>75</td>\n",
       "    </tr>\n",
       "    <tr>\n",
       "      <td>1</td>\n",
       "      <td>25.31</td>\n",
       "      <td>NaN</td>\n",
       "      <td>56.5</td>\n",
       "      <td>4.647122</td>\n",
       "      <td>0:11:01</td>\n",
       "      <td>14.7</td>\n",
       "      <td>Ride</td>\n",
       "      <td>2020-08-21T18:38:38</td>\n",
       "      <td>661.0</td>\n",
       "      <td>11.0</td>\n",
       "      <td>0.007030</td>\n",
       "      <td>25.309593</td>\n",
       "      <td>2020-08-21</td>\n",
       "      <td>70</td>\n",
       "      <td>85</td>\n",
       "      <td>279</td>\n",
       "      <td>75</td>\n",
       "    </tr>\n",
       "    <tr>\n",
       "      <td>0</td>\n",
       "      <td>7.64</td>\n",
       "      <td>156.6</td>\n",
       "      <td>0.0</td>\n",
       "      <td>2.832217</td>\n",
       "      <td>0:22:15</td>\n",
       "      <td>31.0</td>\n",
       "      <td>Run</td>\n",
       "      <td>2020-08-22T18:47:59</td>\n",
       "      <td>1335.0</td>\n",
       "      <td>22.0</td>\n",
       "      <td>0.002122</td>\n",
       "      <td>7.637439</td>\n",
       "      <td>2020-08-22</td>\n",
       "      <td>67</td>\n",
       "      <td>89</td>\n",
       "      <td>213</td>\n",
       "      <td>98</td>\n",
       "    </tr>\n",
       "  </tbody>\n",
       "</table>\n",
       "<p>407 rows × 17 columns</p>\n",
       "</div>"
      ],
      "text/plain": [
       "     average_speed  average_heartrate  average_watts  distance moving_time  \\\n",
       "223            NaN                NaN            NaN       NaN         NaN   \n",
       "224            NaN                NaN            NaN       NaN         NaN   \n",
       "225            NaN                NaN            NaN       NaN         NaN   \n",
       "222          13.79                NaN          116.8  8.793481     0:38:16   \n",
       "226            NaN                NaN            NaN       NaN         NaN   \n",
       "..             ...                ...            ...       ...         ...   \n",
       "4             5.38                NaN            0.0  7.880125     1:27:48   \n",
       "3             8.35                NaN            0.0  2.939031     0:21:07   \n",
       "2             7.84                NaN          161.1  4.701493     0:35:59   \n",
       "1            25.31                NaN           56.5  4.647122     0:11:01   \n",
       "0             7.64              156.6            0.0  2.832217     0:22:15   \n",
       "\n",
       "     total_elevation_gain  type     start_date_local  total_seconds  \\\n",
       "223                   NaN   NaN                  NaN            NaN   \n",
       "224                   NaN   NaN                  NaN            NaN   \n",
       "225                   NaN   NaN                  NaN            NaN   \n",
       "222                 200.5  Ride  2019-07-08T18:32:20         2296.0   \n",
       "226                   NaN   NaN                  NaN            NaN   \n",
       "..                    ...   ...                  ...            ...   \n",
       "4                   544.9   Run  2020-08-19T17:06:21         5268.0   \n",
       "3                    42.4   Run  2020-08-20T17:02:36         1267.0   \n",
       "2                   479.0  Ride  2020-08-21T16:47:24         2159.0   \n",
       "1                    14.7  Ride  2020-08-21T18:38:38          661.0   \n",
       "0                    31.0   Run  2020-08-22T18:47:59         1335.0   \n",
       "\n",
       "     total_minutes  miles/sec   miles/hr        date  deep  wake  light  rem  \n",
       "223            NaN        NaN        NaN  2017-12-17    40    69    188   73  \n",
       "224            NaN        NaN        NaN  2017-12-18    53    66    208  115  \n",
       "225            NaN        NaN        NaN  2017-12-19    57    73    208  138  \n",
       "222           38.0   0.003830  13.787687  2019-07-08    55    83    281   64  \n",
       "226            NaN        NaN        NaN  2019-07-09    57    59    239   38  \n",
       "..             ...        ...        ...         ...   ...   ...    ...  ...  \n",
       "4             87.0   0.001496   5.385051  2020-08-19    68    92    247   98  \n",
       "3             21.0   0.002320   8.350838  2020-08-20    88    65    275   80  \n",
       "2             35.0   0.002178   7.839450  2020-08-21    70    85    279   75  \n",
       "1             11.0   0.007030  25.309593  2020-08-21    70    85    279   75  \n",
       "0             22.0   0.002122   7.637439  2020-08-22    67    89    213   98  \n",
       "\n",
       "[407 rows x 17 columns]"
      ]
     },
     "execution_count": 24,
     "metadata": {},
     "output_type": "execute_result"
    }
   ],
   "source": [
    "strava_df"
   ]
  },
  {
   "cell_type": "code",
   "execution_count": 25,
   "metadata": {},
   "outputs": [],
   "source": [
    "strava_df['deep_avg'] = strava_df['deep'].rolling(window=7).mean()\n",
    "strava_df['rem_avg'] = strava_df['rem'].rolling(window=7).mean()\n",
    "strava_df['wake_avg'] = strava_df['wake'].rolling(window=7).mean()\n",
    "strava_df['light_avg'] = strava_df['light'].rolling(window=7).mean()"
   ]
  },
  {
   "cell_type": "code",
   "execution_count": 26,
   "metadata": {},
   "outputs": [
    {
     "data": {
      "text/plain": [
       "223     NaN\n",
       "224     NaN\n",
       "225     NaN\n",
       "222    Ride\n",
       "226     NaN\n",
       "       ... \n",
       "4       Run\n",
       "3       Run\n",
       "2      Ride\n",
       "1      Ride\n",
       "0       Run\n",
       "Name: type, Length: 407, dtype: object"
      ]
     },
     "execution_count": 26,
     "metadata": {},
     "output_type": "execute_result"
    }
   ],
   "source": [
    "strava_df['type']"
   ]
  },
  {
   "cell_type": "code",
   "execution_count": 27,
   "metadata": {},
   "outputs": [],
   "source": [
    "strava_df['minutes_running'] = np.where(strava_df['type']=='Run',strava_df['total_minutes'],0)\n",
    "strava_df['minutes_cycling'] = np.where(strava_df['type']=='Ride',strava_df['total_minutes'],0)"
   ]
  },
  {
   "cell_type": "code",
   "execution_count": 28,
   "metadata": {},
   "outputs": [],
   "source": [
    "strava_df['running_toll'] = strava_df['minutes_running'].rolling(window=7).sum()\n",
    "strava_df['cycling_toll'] = strava_df['minutes_cycling'].rolling(window=7).sum()"
   ]
  },
  {
   "cell_type": "code",
   "execution_count": 29,
   "metadata": {},
   "outputs": [],
   "source": [
    "strava_df.drop(columns=['average_heartrate'],inplace=True)"
   ]
  },
  {
   "cell_type": "code",
   "execution_count": 30,
   "metadata": {},
   "outputs": [],
   "source": [
    "strava_df.dropna(inplace=True)"
   ]
  },
  {
   "cell_type": "code",
   "execution_count": 31,
   "metadata": {},
   "outputs": [],
   "source": [
    "strava_df_run = strava_df[strava_df['type']=='Run']"
   ]
  },
  {
   "cell_type": "code",
   "execution_count": 32,
   "metadata": {},
   "outputs": [],
   "source": [
    "strava_df_run['prev_pace'] = strava_df['miles/hr'].shift(1)"
   ]
  },
  {
   "cell_type": "code",
   "execution_count": 34,
   "metadata": {},
   "outputs": [],
   "source": [
    "strava_df_run.drop(columns=['average_watts', 'minutes_cycling'],inplace=True)"
   ]
  },
  {
   "cell_type": "code",
   "execution_count": 35,
   "metadata": {},
   "outputs": [
    {
     "data": {
      "text/plain": [
       "Index(['average_speed', 'distance', 'moving_time', 'total_elevation_gain',\n",
       "       'type', 'start_date_local', 'total_seconds', 'total_minutes',\n",
       "       'miles/sec', 'miles/hr', 'date', 'deep', 'wake', 'light', 'rem',\n",
       "       'deep_avg', 'rem_avg', 'wake_avg', 'light_avg', 'minutes_running',\n",
       "       'running_toll', 'cycling_toll', 'prev_pace'],\n",
       "      dtype='object')"
      ]
     },
     "execution_count": 35,
     "metadata": {},
     "output_type": "execute_result"
    }
   ],
   "source": [
    "strava_df_run.columns"
   ]
  },
  {
   "cell_type": "code",
   "execution_count": 36,
   "metadata": {},
   "outputs": [
    {
     "data": {
      "text/plain": [
       "0.0      160\n",
       "175.0      4\n",
       "47.0       4\n",
       "44.0       4\n",
       "166.0      4\n",
       "388.0      3\n",
       "37.0       3\n",
       "84.0       2\n",
       "393.0      2\n",
       "113.0      2\n",
       "216.0      1\n",
       "177.0      1\n",
       "121.0      1\n",
       "199.0      1\n",
       "297.0      1\n",
       "282.0      1\n",
       "240.0      1\n",
       "336.0      1\n",
       "Name: cycling_toll, dtype: int64"
      ]
     },
     "execution_count": 36,
     "metadata": {},
     "output_type": "execute_result"
    }
   ],
   "source": [
    "strava_df_run['cycling_toll'].value_counts()"
   ]
  },
  {
   "cell_type": "code",
   "execution_count": 37,
   "metadata": {},
   "outputs": [
    {
     "data": {
      "text/plain": [
       "<matplotlib.axes._subplots.AxesSubplot at 0x7ffdccfe3190>"
      ]
     },
     "execution_count": 37,
     "metadata": {},
     "output_type": "execute_result"
    },
    {
     "data": {
      "image/png": "[encoded data removed]",
      "text/plain": [
       "<Figure size 864x576 with 2 Axes>"
      ]
     },
     "metadata": {
      "needs_background": "light"
     },
     "output_type": "display_data"
    }
   ],
   "source": [
    "corr = strava_df_run.corr()\n",
    "plt.figure(figsize = (12,8))\n",
    "sns.heatmap(corr, annot=True, fmt=\".2f\")"
   ]
  },
  {
   "cell_type": "code",
   "execution_count": 38,
   "metadata": {},
   "outputs": [],
   "source": [
    "y = strava_df_run[['miles/hr']]"
   ]
  },
  {
   "cell_type": "code",
   "execution_count": 39,
   "metadata": {},
   "outputs": [],
   "source": [
    "X = strava_df_run[['distance','total_elevation_gain','total_elevation_gain','running_toll', 'cycling_toll', \n",
    "                  'deep', 'wake','light', 'rem', 'deep_avg', 'rem_avg', 'wake_avg', 'light_avg']]"
   ]
  },
  {
   "cell_type": "code",
   "execution_count": 40,
   "metadata": {},
   "outputs": [
    {
     "data": {
      "text/plain": [
       "196"
      ]
     },
     "execution_count": 40,
     "metadata": {},
     "output_type": "execute_result"
    }
   ],
   "source": [
    "len(X)"
   ]
  },
  {
   "cell_type": "code",
   "execution_count": 41,
   "metadata": {},
   "outputs": [],
   "source": [
    "X_train, X_test, y_train, y_test = train_test_split(\n",
    "    X, y, train_size=150, test_size=46, random_state=4)"
   ]
  },
  {
   "cell_type": "code",
   "execution_count": 42,
   "metadata": {},
   "outputs": [],
   "source": [
    "max_depth = 30\n",
    "regr_multirf = MultiOutputRegressor(RandomForestRegressor(n_estimators=100,\n",
    "                                                          max_depth=max_depth,\n",
    "                                                          random_state=0))"
   ]
  },
  {
   "cell_type": "code",
   "execution_count": 43,
   "metadata": {},
   "outputs": [
    {
     "data": {
      "text/plain": [
       "MultiOutputRegressor(estimator=RandomForestRegressor(bootstrap=True,\n",
       "                                                     criterion='mse',\n",
       "                                                     max_depth=30,\n",
       "                                                     max_features='auto',\n",
       "                                                     max_leaf_nodes=None,\n",
       "                                                     min_impurity_decrease=0.0,\n",
       "                                                     min_impurity_split=None,\n",
       "                                                     min_samples_leaf=1,\n",
       "                                                     min_samples_split=2,\n",
       "                                                     min_weight_fraction_leaf=0.0,\n",
       "                                                     n_estimators=100,\n",
       "                                                     n_jobs=None,\n",
       "                                                     oob_score=False,\n",
       "                                                     random_state=0, verbose=0,\n",
       "                                                     warm_start=False),\n",
       "                     n_jobs=None)"
      ]
     },
     "execution_count": 43,
     "metadata": {},
     "output_type": "execute_result"
    }
   ],
   "source": [
    "regr_multirf.fit(X_train, y_train)"
   ]
  },
  {
   "cell_type": "code",
   "execution_count": 44,
   "metadata": {},
   "outputs": [
    {
     "data": {
      "text/plain": [
       "RandomForestRegressor(bootstrap=True, criterion='mse', max_depth=30,\n",
       "                      max_features='auto', max_leaf_nodes=None,\n",
       "                      min_impurity_decrease=0.0, min_impurity_split=None,\n",
       "                      min_samples_leaf=1, min_samples_split=2,\n",
       "                      min_weight_fraction_leaf=0.0, n_estimators=100,\n",
       "                      n_jobs=None, oob_score=False, random_state=2, verbose=0,\n",
       "                      warm_start=False)"
      ]
     },
     "execution_count": 44,
     "metadata": {},
     "output_type": "execute_result"
    }
   ],
   "source": [
    "regr_rf = RandomForestRegressor(n_estimators=100, max_depth=max_depth,\n",
    "                                random_state=2)\n",
    "regr_rf.fit(X_train, y_train)"
   ]
  },
  {
   "cell_type": "code",
   "execution_count": 45,
   "metadata": {},
   "outputs": [],
   "source": [
    "y_multirf = regr_multirf.predict(X_test)\n",
    "y_rf = regr_rf.predict(X_test)"
   ]
  },
  {
   "cell_type": "code",
   "execution_count": 46,
   "metadata": {},
   "outputs": [
    {
     "data": {
      "text/plain": [
       "[<matplotlib.lines.Line2D at 0x7ffdcdaeb0d0>]"
      ]
     },
     "execution_count": 46,
     "metadata": {},
     "output_type": "execute_result"
    },
    {
     "data": {
      "image/png": "[encoded data removed]",
      "text/plain": [
       "<Figure size 432x288 with 1 Axes>"
      ]
     },
     "metadata": {
      "needs_background": "light"
     },
     "output_type": "display_data"
    }
   ],
   "source": [
    "plt.plot(y_multirf, 'ro')"
   ]
  },
  {
   "cell_type": "code",
   "execution_count": 47,
   "metadata": {},
   "outputs": [],
   "source": [
    "y_test_arr = np.array(y_test['miles/hr'])"
   ]
  },
  {
   "cell_type": "code",
   "execution_count": 48,
   "metadata": {},
   "outputs": [
    {
     "data": {
      "text/plain": [
       "[<matplotlib.lines.Line2D at 0x7ffdc8353390>]"
      ]
     },
     "execution_count": 48,
     "metadata": {},
     "output_type": "execute_result"
    },
    {
     "data": {
      "image/png": "[encoded data removed]",
      "text/plain": [
       "<Figure size 432x288 with 1 Axes>"
      ]
     },
     "metadata": {
      "needs_background": "light"
     },
     "output_type": "display_data"
    }
   ],
   "source": [
    "plt.figure()\n",
    "plt.plot(y_test_arr, 'bo')\n",
    "plt.plot(y_multirf, 'ro')\n",
    "plt.plot(y_rf,'go')"
   ]
  },
  {
   "cell_type": "code",
   "execution_count": 54,
   "metadata": {},
   "outputs": [
    {
     "data": {
      "text/plain": [
       "<matplotlib.collections.PathCollection at 0x7ffdce07a690>"
      ]
     },
     "execution_count": 54,
     "metadata": {},
     "output_type": "execute_result"
    },
    {
     "data": {
      "image/png": "[encoded data removed]",
      "text/plain": [
       "<Figure size 432x288 with 1 Axes>"
      ]
     },
     "metadata": {
      "needs_background": "light"
     },
     "output_type": "display_data"
    }
   ],
   "source": [
    "s = 50\n",
    "a = 0.4\n",
    "plt.scatter(y=y_test_arr, x=range(0,len(y_test_arr)), edgecolor='k',\n",
    "            c=\"navy\", s=s, marker=\"s\", alpha=a, label=\"Data\")\n",
    "plt.scatter(y=y_multirf,x=range(0,len(y_test_arr)), edgecolor='k',\n",
    "            c=\"cornflowerblue\", s=s, alpha=a,\n",
    "            label=\"Multi RF score=%.2f\" % regr_multirf.score(X_test, y_test))\n",
    "plt.scatter(y=y_rf,x=range(0,len(y_test_arr)), edgecolor='k',\n",
    "            c=\"c\", s=s, marker=\"^\", alpha=a,\n",
    "            label=\"RF score=%.2f\" % regr_rf.score(X_test, y_test))"
   ]
  },
  {
   "cell_type": "code",
   "execution_count": null,
   "metadata": {},
   "outputs": [],
   "source": []
  },
  {
   "cell_type": "code",
   "execution_count": 60,
   "metadata": {},
   "outputs": [
    {
     "ename": "KeyError",
     "evalue": "\"None of [Int64Index([202,  68, 178,  34, 214, 143,  57,   7, 164,  23,  19,  60, 111,\\n            151, 119,  18, 130,  20, 141,   4, 123, 129,  55, 179, 124, 103,\\n            209, 199,  91,  21, 194,  56,  27,  36,  38, 113, 101, 110,  92,\\n            186, 132,  29,  99, 107, 165, 166],\\n           dtype='int64')] are in the [columns]\"",
     "output_type": "error",
     "traceback": [
      "\u001b[0;31m---------------------------------------------------------\u001b[0m",
      "\u001b[0;31mKeyError\u001b[0m                Traceback (most recent call last)",
      "\u001b[0;32m<ipython-input-60-01498a02acdb>\u001b[0m in \u001b[0;36m<module>\u001b[0;34m\u001b[0m\n\u001b[0;32m----> 1\u001b[0;31m \u001b[0my_test\u001b[0m\u001b[0;34m.\u001b[0m\u001b[0mplot\u001b[0m\u001b[0;34m(\u001b[0m\u001b[0mkind\u001b[0m\u001b[0;34m=\u001b[0m\u001b[0;34m'scatter'\u001b[0m\u001b[0;34m,\u001b[0m \u001b[0mx\u001b[0m\u001b[0;34m=\u001b[0m\u001b[0my_test\u001b[0m\u001b[0;34m.\u001b[0m\u001b[0mindex\u001b[0m\u001b[0;34m,\u001b[0m \u001b[0my\u001b[0m\u001b[0;34m=\u001b[0m\u001b[0my_test\u001b[0m\u001b[0;34m[\u001b[0m\u001b[0;34m'miles/hr'\u001b[0m\u001b[0;34m]\u001b[0m\u001b[0;34m)\u001b[0m\u001b[0;34m\u001b[0m\u001b[0;34m\u001b[0m\u001b[0m\n\u001b[0m",
      "\u001b[0;32m~/anaconda3/lib/python3.7/site-packages/pandas/plotting/_core.py\u001b[0m in \u001b[0;36m__call__\u001b[0;34m(self, *args, **kwargs)\u001b[0m\n\u001b[1;32m    736\u001b[0m         \u001b[0;32mif\u001b[0m \u001b[0mkind\u001b[0m \u001b[0;32min\u001b[0m \u001b[0mself\u001b[0m\u001b[0;34m.\u001b[0m\u001b[0m_dataframe_kinds\u001b[0m\u001b[0;34m:\u001b[0m\u001b[0;34m\u001b[0m\u001b[0;34m\u001b[0m\u001b[0m\n\u001b[1;32m    737\u001b[0m             \u001b[0;32mif\u001b[0m \u001b[0misinstance\u001b[0m\u001b[0;34m(\u001b[0m\u001b[0mdata\u001b[0m\u001b[0;34m,\u001b[0m \u001b[0mABCDataFrame\u001b[0m\u001b[0;34m)\u001b[0m\u001b[0;34m:\u001b[0m\u001b[0;34m\u001b[0m\u001b[0;34m\u001b[0m\u001b[0m\n\u001b[0;32m--> 738\u001b[0;31m                 \u001b[0;32mreturn\u001b[0m \u001b[0mplot_backend\u001b[0m\u001b[0;34m.\u001b[0m\u001b[0mplot\u001b[0m\u001b[0;34m(\u001b[0m\u001b[0mdata\u001b[0m\u001b[0;34m,\u001b[0m \u001b[0mx\u001b[0m\u001b[0;34m=\u001b[0m\u001b[0mx\u001b[0m\u001b[0;34m,\u001b[0m \u001b[0my\u001b[0m\u001b[0;34m=\u001b[0m\u001b[0my\u001b[0m\u001b[0;34m,\u001b[0m \u001b[0mkind\u001b[0m\u001b[0;34m=\u001b[0m\u001b[0mkind\u001b[0m\u001b[0;34m,\u001b[0m \u001b[0;34m**\u001b[0m\u001b[0mkwargs\u001b[0m\u001b[0;34m)\u001b[0m\u001b[0;34m\u001b[0m\u001b[0;34m\u001b[0m\u001b[0m\n\u001b[0m\u001b[1;32m    739\u001b[0m             \u001b[0;32melse\u001b[0m\u001b[0;34m:\u001b[0m\u001b[0;34m\u001b[0m\u001b[0;34m\u001b[0m\u001b[0m\n\u001b[1;32m    740\u001b[0m                 raise ValueError(\n",
      "\u001b[0;32m~/anaconda3/lib/python3.7/site-packages/pandas/plotting/_matplotlib/__init__.py\u001b[0m in \u001b[0;36mplot\u001b[0;34m(data, kind, **kwargs)\u001b[0m\n\u001b[1;32m     59\u001b[0m                 \u001b[0max\u001b[0m \u001b[0;34m=\u001b[0m \u001b[0mplt\u001b[0m\u001b[0;34m.\u001b[0m\u001b[0mgca\u001b[0m\u001b[0;34m(\u001b[0m\u001b[0;34m)\u001b[0m\u001b[0;34m\u001b[0m\u001b[0;34m\u001b[0m\u001b[0m\n\u001b[1;32m     60\u001b[0m             \u001b[0mkwargs\u001b[0m\u001b[0;34m[\u001b[0m\u001b[0;34m\"ax\"\u001b[0m\u001b[0;34m]\u001b[0m \u001b[0;34m=\u001b[0m \u001b[0mgetattr\u001b[0m\u001b[0;34m(\u001b[0m\u001b[0max\u001b[0m\u001b[0;34m,\u001b[0m \u001b[0;34m\"left_ax\"\u001b[0m\u001b[0;34m,\u001b[0m \u001b[0max\u001b[0m\u001b[0;34m)\u001b[0m\u001b[0;34m\u001b[0m\u001b[0;34m\u001b[0m\u001b[0m\n\u001b[0;32m---> 61\u001b[0;31m     \u001b[0mplot_obj\u001b[0m \u001b[0;34m=\u001b[0m \u001b[0mPLOT_CLASSES\u001b[0m\u001b[0;34m[\u001b[0m\u001b[0mkind\u001b[0m\u001b[0;34m]\u001b[0m\u001b[0;34m(\u001b[0m\u001b[0mdata\u001b[0m\u001b[0;34m,\u001b[0m \u001b[0;34m**\u001b[0m\u001b[0mkwargs\u001b[0m\u001b[0;34m)\u001b[0m\u001b[0;34m\u001b[0m\u001b[0;34m\u001b[0m\u001b[0m\n\u001b[0m\u001b[1;32m     62\u001b[0m     \u001b[0mplot_obj\u001b[0m\u001b[0;34m.\u001b[0m\u001b[0mgenerate\u001b[0m\u001b[0;34m(\u001b[0m\u001b[0;34m)\u001b[0m\u001b[0;34m\u001b[0m\u001b[0;34m\u001b[0m\u001b[0m\n\u001b[1;32m     63\u001b[0m     \u001b[0mplot_obj\u001b[0m\u001b[0;34m.\u001b[0m\u001b[0mdraw\u001b[0m\u001b[0;34m(\u001b[0m\u001b[0;34m)\u001b[0m\u001b[0;34m\u001b[0m\u001b[0;34m\u001b[0m\u001b[0m\n",
      "\u001b[0;32m~/anaconda3/lib/python3.7/site-packages/pandas/plotting/_matplotlib/core.py\u001b[0m in \u001b[0;36m__init__\u001b[0;34m(self, data, x, y, s, c, **kwargs)\u001b[0m\n\u001b[1;32m    928\u001b[0m             \u001b[0;31m# the handling of this argument later\u001b[0m\u001b[0;34m\u001b[0m\u001b[0;34m\u001b[0m\u001b[0;34m\u001b[0m\u001b[0m\n\u001b[1;32m    929\u001b[0m             \u001b[0ms\u001b[0m \u001b[0;34m=\u001b[0m \u001b[0;36m20\u001b[0m\u001b[0;34m\u001b[0m\u001b[0;34m\u001b[0m\u001b[0m\n\u001b[0;32m--> 930\u001b[0;31m         \u001b[0msuper\u001b[0m\u001b[0;34m(\u001b[0m\u001b[0;34m)\u001b[0m\u001b[0;34m.\u001b[0m\u001b[0m__init__\u001b[0m\u001b[0;34m(\u001b[0m\u001b[0mdata\u001b[0m\u001b[0;34m,\u001b[0m \u001b[0mx\u001b[0m\u001b[0;34m,\u001b[0m \u001b[0my\u001b[0m\u001b[0;34m,\u001b[0m \u001b[0ms\u001b[0m\u001b[0;34m=\u001b[0m\u001b[0ms\u001b[0m\u001b[0;34m,\u001b[0m \u001b[0;34m**\u001b[0m\u001b[0mkwargs\u001b[0m\u001b[0;34m)\u001b[0m\u001b[0;34m\u001b[0m\u001b[0;34m\u001b[0m\u001b[0m\n\u001b[0m\u001b[1;32m    931\u001b[0m         \u001b[0;32mif\u001b[0m \u001b[0mis_integer\u001b[0m\u001b[0;34m(\u001b[0m\u001b[0mc\u001b[0m\u001b[0;34m)\u001b[0m \u001b[0;32mand\u001b[0m \u001b[0;32mnot\u001b[0m \u001b[0mself\u001b[0m\u001b[0;34m.\u001b[0m\u001b[0mdata\u001b[0m\u001b[0;34m.\u001b[0m\u001b[0mcolumns\u001b[0m\u001b[0;34m.\u001b[0m\u001b[0mholds_integer\u001b[0m\u001b[0;34m(\u001b[0m\u001b[0;34m)\u001b[0m\u001b[0;34m:\u001b[0m\u001b[0;34m\u001b[0m\u001b[0;34m\u001b[0m\u001b[0m\n\u001b[1;32m    932\u001b[0m             \u001b[0mc\u001b[0m \u001b[0;34m=\u001b[0m \u001b[0mself\u001b[0m\u001b[0;34m.\u001b[0m\u001b[0mdata\u001b[0m\u001b[0;34m.\u001b[0m\u001b[0mcolumns\u001b[0m\u001b[0;34m[\u001b[0m\u001b[0mc\u001b[0m\u001b[0;34m]\u001b[0m\u001b[0;34m\u001b[0m\u001b[0;34m\u001b[0m\u001b[0m\n",
      "\u001b[0;32m~/anaconda3/lib/python3.7/site-packages/pandas/plotting/_matplotlib/core.py\u001b[0m in \u001b[0;36m__init__\u001b[0;34m(self, data, x, y, **kwargs)\u001b[0m\n\u001b[1;32m    867\u001b[0m         \u001b[0;32mif\u001b[0m \u001b[0mis_integer\u001b[0m\u001b[0;34m(\u001b[0m\u001b[0my\u001b[0m\u001b[0;34m)\u001b[0m \u001b[0;32mand\u001b[0m \u001b[0;32mnot\u001b[0m \u001b[0mself\u001b[0m\u001b[0;34m.\u001b[0m\u001b[0mdata\u001b[0m\u001b[0;34m.\u001b[0m\u001b[0mcolumns\u001b[0m\u001b[0;34m.\u001b[0m\u001b[0mholds_integer\u001b[0m\u001b[0;34m(\u001b[0m\u001b[0;34m)\u001b[0m\u001b[0;34m:\u001b[0m\u001b[0;34m\u001b[0m\u001b[0;34m\u001b[0m\u001b[0m\n\u001b[1;32m    868\u001b[0m             \u001b[0my\u001b[0m \u001b[0;34m=\u001b[0m \u001b[0mself\u001b[0m\u001b[0;34m.\u001b[0m\u001b[0mdata\u001b[0m\u001b[0;34m.\u001b[0m\u001b[0mcolumns\u001b[0m\u001b[0;34m[\u001b[0m\u001b[0my\u001b[0m\u001b[0;34m]\u001b[0m\u001b[0;34m\u001b[0m\u001b[0;34m\u001b[0m\u001b[0m\n\u001b[0;32m--> 869\u001b[0;31m         \u001b[0;32mif\u001b[0m \u001b[0mlen\u001b[0m\u001b[0;34m(\u001b[0m\u001b[0mself\u001b[0m\u001b[0;34m.\u001b[0m\u001b[0mdata\u001b[0m\u001b[0;34m[\u001b[0m\u001b[0mx\u001b[0m\u001b[0;34m]\u001b[0m\u001b[0;34m.\u001b[0m\u001b[0m_get_numeric_data\u001b[0m\u001b[0;34m(\u001b[0m\u001b[0;34m)\u001b[0m\u001b[0;34m)\u001b[0m \u001b[0;34m==\u001b[0m \u001b[0;36m0\u001b[0m\u001b[0;34m:\u001b[0m\u001b[0;34m\u001b[0m\u001b[0;34m\u001b[0m\u001b[0m\n\u001b[0m\u001b[1;32m    870\u001b[0m             \u001b[0;32mraise\u001b[0m \u001b[0mValueError\u001b[0m\u001b[0;34m(\u001b[0m\u001b[0mself\u001b[0m\u001b[0;34m.\u001b[0m\u001b[0m_kind\u001b[0m \u001b[0;34m+\u001b[0m \u001b[0;34m\" requires x column to be numeric\"\u001b[0m\u001b[0;34m)\u001b[0m\u001b[0;34m\u001b[0m\u001b[0;34m\u001b[0m\u001b[0m\n\u001b[1;32m    871\u001b[0m         \u001b[0;32mif\u001b[0m \u001b[0mlen\u001b[0m\u001b[0;34m(\u001b[0m\u001b[0mself\u001b[0m\u001b[0;34m.\u001b[0m\u001b[0mdata\u001b[0m\u001b[0;34m[\u001b[0m\u001b[0my\u001b[0m\u001b[0;34m]\u001b[0m\u001b[0;34m.\u001b[0m\u001b[0m_get_numeric_data\u001b[0m\u001b[0;34m(\u001b[0m\u001b[0;34m)\u001b[0m\u001b[0;34m)\u001b[0m \u001b[0;34m==\u001b[0m \u001b[0;36m0\u001b[0m\u001b[0;34m:\u001b[0m\u001b[0;34m\u001b[0m\u001b[0;34m\u001b[0m\u001b[0m\n",
      "\u001b[0;32m~/anaconda3/lib/python3.7/site-packages/pandas/core/frame.py\u001b[0m in \u001b[0;36m__getitem__\u001b[0;34m(self, key)\u001b[0m\n\u001b[1;32m   2984\u001b[0m             \u001b[0;32mif\u001b[0m \u001b[0mis_iterator\u001b[0m\u001b[0;34m(\u001b[0m\u001b[0mkey\u001b[0m\u001b[0;34m)\u001b[0m\u001b[0;34m:\u001b[0m\u001b[0;34m\u001b[0m\u001b[0;34m\u001b[0m\u001b[0m\n\u001b[1;32m   2985\u001b[0m                 \u001b[0mkey\u001b[0m \u001b[0;34m=\u001b[0m \u001b[0mlist\u001b[0m\u001b[0;34m(\u001b[0m\u001b[0mkey\u001b[0m\u001b[0;34m)\u001b[0m\u001b[0;34m\u001b[0m\u001b[0;34m\u001b[0m\u001b[0m\n\u001b[0;32m-> 2986\u001b[0;31m             \u001b[0mindexer\u001b[0m \u001b[0;34m=\u001b[0m \u001b[0mself\u001b[0m\u001b[0;34m.\u001b[0m\u001b[0mloc\u001b[0m\u001b[0;34m.\u001b[0m\u001b[0m_convert_to_indexer\u001b[0m\u001b[0;34m(\u001b[0m\u001b[0mkey\u001b[0m\u001b[0;34m,\u001b[0m \u001b[0maxis\u001b[0m\u001b[0;34m=\u001b[0m\u001b[0;36m1\u001b[0m\u001b[0;34m,\u001b[0m \u001b[0mraise_missing\u001b[0m\u001b[0;34m=\u001b[0m\u001b[0;32mTrue\u001b[0m\u001b[0;34m)\u001b[0m\u001b[0;34m\u001b[0m\u001b[0;34m\u001b[0m\u001b[0m\n\u001b[0m\u001b[1;32m   2987\u001b[0m \u001b[0;34m\u001b[0m\u001b[0m\n\u001b[1;32m   2988\u001b[0m         \u001b[0;31m# take() does not accept boolean indexers\u001b[0m\u001b[0;34m\u001b[0m\u001b[0;34m\u001b[0m\u001b[0;34m\u001b[0m\u001b[0m\n",
      "\u001b[0;32m~/anaconda3/lib/python3.7/site-packages/pandas/core/indexing.py\u001b[0m in \u001b[0;36m_convert_to_indexer\u001b[0;34m(self, obj, axis, is_setter, raise_missing)\u001b[0m\n\u001b[1;32m   1283\u001b[0m                 \u001b[0;31m# When setting, missing keys are not allowed, even with .loc:\u001b[0m\u001b[0;34m\u001b[0m\u001b[0;34m\u001b[0m\u001b[0;34m\u001b[0m\u001b[0m\n\u001b[1;32m   1284\u001b[0m                 \u001b[0mkwargs\u001b[0m \u001b[0;34m=\u001b[0m \u001b[0;34m{\u001b[0m\u001b[0;34m\"raise_missing\"\u001b[0m\u001b[0;34m:\u001b[0m \u001b[0;32mTrue\u001b[0m \u001b[0;32mif\u001b[0m \u001b[0mis_setter\u001b[0m \u001b[0;32melse\u001b[0m \u001b[0mraise_missing\u001b[0m\u001b[0;34m}\u001b[0m\u001b[0;34m\u001b[0m\u001b[0;34m\u001b[0m\u001b[0m\n\u001b[0;32m-> 1285\u001b[0;31m                 \u001b[0;32mreturn\u001b[0m \u001b[0mself\u001b[0m\u001b[0;34m.\u001b[0m\u001b[0m_get_listlike_indexer\u001b[0m\u001b[0;34m(\u001b[0m\u001b[0mobj\u001b[0m\u001b[0;34m,\u001b[0m \u001b[0maxis\u001b[0m\u001b[0;34m,\u001b[0m \u001b[0;34m**\u001b[0m\u001b[0mkwargs\u001b[0m\u001b[0;34m)\u001b[0m\u001b[0;34m[\u001b[0m\u001b[0;36m1\u001b[0m\u001b[0;34m]\u001b[0m\u001b[0;34m\u001b[0m\u001b[0;34m\u001b[0m\u001b[0m\n\u001b[0m\u001b[1;32m   1286\u001b[0m         \u001b[0;32melse\u001b[0m\u001b[0;34m:\u001b[0m\u001b[0;34m\u001b[0m\u001b[0;34m\u001b[0m\u001b[0m\n\u001b[1;32m   1287\u001b[0m             \u001b[0;32mtry\u001b[0m\u001b[0;34m:\u001b[0m\u001b[0;34m\u001b[0m\u001b[0;34m\u001b[0m\u001b[0m\n",
      "\u001b[0;32m~/anaconda3/lib/python3.7/site-packages/pandas/core/indexing.py\u001b[0m in \u001b[0;36m_get_listlike_indexer\u001b[0;34m(self, key, axis, raise_missing)\u001b[0m\n\u001b[1;32m   1090\u001b[0m \u001b[0;34m\u001b[0m\u001b[0m\n\u001b[1;32m   1091\u001b[0m         self._validate_read_indexer(\n\u001b[0;32m-> 1092\u001b[0;31m             \u001b[0mkeyarr\u001b[0m\u001b[0;34m,\u001b[0m \u001b[0mindexer\u001b[0m\u001b[0;34m,\u001b[0m \u001b[0mo\u001b[0m\u001b[0;34m.\u001b[0m\u001b[0m_get_axis_number\u001b[0m\u001b[0;34m(\u001b[0m\u001b[0maxis\u001b[0m\u001b[0;34m)\u001b[0m\u001b[0;34m,\u001b[0m \u001b[0mraise_missing\u001b[0m\u001b[0;34m=\u001b[0m\u001b[0mraise_missing\u001b[0m\u001b[0;34m\u001b[0m\u001b[0;34m\u001b[0m\u001b[0m\n\u001b[0m\u001b[1;32m   1093\u001b[0m         )\n\u001b[1;32m   1094\u001b[0m         \u001b[0;32mreturn\u001b[0m \u001b[0mkeyarr\u001b[0m\u001b[0;34m,\u001b[0m \u001b[0mindexer\u001b[0m\u001b[0;34m\u001b[0m\u001b[0;34m\u001b[0m\u001b[0m\n",
      "\u001b[0;32m~/anaconda3/lib/python3.7/site-packages/pandas/core/indexing.py\u001b[0m in \u001b[0;36m_validate_read_indexer\u001b[0;34m(self, key, indexer, axis, raise_missing)\u001b[0m\n\u001b[1;32m   1175\u001b[0m                 raise KeyError(\n\u001b[1;32m   1176\u001b[0m                     \"None of [{key}] are in the [{axis}]\".format(\n\u001b[0;32m-> 1177\u001b[0;31m                         \u001b[0mkey\u001b[0m\u001b[0;34m=\u001b[0m\u001b[0mkey\u001b[0m\u001b[0;34m,\u001b[0m \u001b[0maxis\u001b[0m\u001b[0;34m=\u001b[0m\u001b[0mself\u001b[0m\u001b[0;34m.\u001b[0m\u001b[0mobj\u001b[0m\u001b[0;34m.\u001b[0m\u001b[0m_get_axis_name\u001b[0m\u001b[0;34m(\u001b[0m\u001b[0maxis\u001b[0m\u001b[0;34m)\u001b[0m\u001b[0;34m\u001b[0m\u001b[0;34m\u001b[0m\u001b[0m\n\u001b[0m\u001b[1;32m   1178\u001b[0m                     )\n\u001b[1;32m   1179\u001b[0m                 )\n",
      "\u001b[0;31mKeyError\u001b[0m: \"None of [Int64Index([202,  68, 178,  34, 214, 143,  57,   7, 164,  23,  19,  60, 111,\\n            151, 119,  18, 130,  20, 141,   4, 123, 129,  55, 179, 124, 103,\\n            209, 199,  91,  21, 194,  56,  27,  36,  38, 113, 101, 110,  92,\\n            186, 132,  29,  99, 107, 165, 166],\\n           dtype='int64')] are in the [columns]\""
     ]
    }
   ],
   "source": [
    "y_test.plot(kind='scatter', x=y_test.index, y=y_test['miles/hr'])"
   ]
  },
  {
   "cell_type": "code",
   "execution_count": 59,
   "metadata": {},
   "outputs": [
    {
     "ename": "TypeError",
     "evalue": "scatter() missing 1 required positional argument: 'y'",
     "output_type": "error",
     "traceback": [
      "\u001b[0;31m---------------------------------------------------------\u001b[0m",
      "\u001b[0;31mTypeError\u001b[0m               Traceback (most recent call last)",
      "\u001b[0;32m<ipython-input-59-af8e5646d562>\u001b[0m in \u001b[0;36m<module>\u001b[0;34m\u001b[0m\n\u001b[1;32m      2\u001b[0m \u001b[0ms\u001b[0m \u001b[0;34m=\u001b[0m \u001b[0;36m50\u001b[0m\u001b[0;34m\u001b[0m\u001b[0;34m\u001b[0m\u001b[0m\n\u001b[1;32m      3\u001b[0m \u001b[0ma\u001b[0m \u001b[0;34m=\u001b[0m \u001b[0;36m0.4\u001b[0m\u001b[0;34m\u001b[0m\u001b[0;34m\u001b[0m\u001b[0m\n\u001b[0;32m----> 4\u001b[0;31m \u001b[0mplt\u001b[0m\u001b[0;34m.\u001b[0m\u001b[0mscatter\u001b[0m\u001b[0;34m(\u001b[0m\u001b[0my_test\u001b[0m\u001b[0;34m[\u001b[0m\u001b[0;34m'miles/hr'\u001b[0m\u001b[0;34m]\u001b[0m\u001b[0;34m,\u001b[0m \u001b[0medgecolor\u001b[0m\u001b[0;34m=\u001b[0m\u001b[0;34m'k'\u001b[0m\u001b[0;34m,\u001b[0m \u001b[0mc\u001b[0m\u001b[0;34m=\u001b[0m\u001b[0;34m\"navy\"\u001b[0m\u001b[0;34m,\u001b[0m \u001b[0ms\u001b[0m\u001b[0;34m=\u001b[0m\u001b[0ms\u001b[0m\u001b[0;34m,\u001b[0m \u001b[0mmarker\u001b[0m\u001b[0;34m=\u001b[0m\u001b[0;34m\"s\"\u001b[0m\u001b[0;34m,\u001b[0m \u001b[0malpha\u001b[0m\u001b[0;34m=\u001b[0m\u001b[0ma\u001b[0m\u001b[0;34m,\u001b[0m \u001b[0mlabel\u001b[0m\u001b[0;34m=\u001b[0m\u001b[0;34m\"Data\"\u001b[0m\u001b[0;34m)\u001b[0m\u001b[0;34m\u001b[0m\u001b[0;34m\u001b[0m\u001b[0m\n\u001b[0m\u001b[1;32m      5\u001b[0m plt.scatter(y_multirf, edgecolor='k', c=\"cornflowerblue\", s=s, alpha=a,\n\u001b[1;32m      6\u001b[0m             label=\"Multi RF score=%.2f\" % regr_multirf.score(X_test, y_test))\n",
      "\u001b[0;31mTypeError\u001b[0m: scatter() missing 1 required positional argument: 'y'"
     ]
    },
    {
     "data": {
      "text/plain": [
       "<Figure size 432x288 with 0 Axes>"
      ]
     },
     "metadata": {},
     "output_type": "display_data"
    }
   ],
   "source": [
    "plt.figure()\n",
    "s = 50\n",
    "a = 0.4\n",
    "plt.scatter(y_test['miles/hr'], edgecolor='k', c=\"navy\", s=s, marker=\"s\", alpha=a, label=\"Data\")\n",
    "plt.scatter(y_multirf, edgecolor='k', c=\"cornflowerblue\", s=s, alpha=a,\n",
    "            label=\"Multi RF score=%.2f\" % regr_multirf.score(X_test, y_test))\n",
    "plt.scatter(y_rf, edgecolor='k',c=\"c\", s=s, marker=\"^\", alpha=a,\n",
    "            label=\"RF score=%.2f\" % regr_rf.score(X_test, y_test))"
   ]
  },
  {
   "cell_type": "code",
   "execution_count": null,
   "metadata": {},
   "outputs": [],
   "source": []
  },
  {
   "cell_type": "code",
   "execution_count": 78,
   "metadata": {},
   "outputs": [
    {
     "ename": "KeyError",
     "evalue": "'average_heartrate'",
     "output_type": "error",
     "traceback": [
      "\u001b[0;31m---------------------------------------------------------\u001b[0m",
      "\u001b[0;31mKeyError\u001b[0m                Traceback (most recent call last)",
      "\u001b[0;32m~/anaconda3/lib/python3.7/site-packages/pandas/core/indexes/base.py\u001b[0m in \u001b[0;36mget_loc\u001b[0;34m(self, key, method, tolerance)\u001b[0m\n\u001b[1;32m   2896\u001b[0m             \u001b[0;32mtry\u001b[0m\u001b[0;34m:\u001b[0m\u001b[0;34m\u001b[0m\u001b[0;34m\u001b[0m\u001b[0m\n\u001b[0;32m-> 2897\u001b[0;31m                 \u001b[0;32mreturn\u001b[0m \u001b[0mself\u001b[0m\u001b[0;34m.\u001b[0m\u001b[0m_engine\u001b[0m\u001b[0;34m.\u001b[0m\u001b[0mget_loc\u001b[0m\u001b[0;34m(\u001b[0m\u001b[0mkey\u001b[0m\u001b[0;34m)\u001b[0m\u001b[0;34m\u001b[0m\u001b[0;34m\u001b[0m\u001b[0m\n\u001b[0m\u001b[1;32m   2898\u001b[0m             \u001b[0;32mexcept\u001b[0m \u001b[0mKeyError\u001b[0m\u001b[0;34m:\u001b[0m\u001b[0;34m\u001b[0m\u001b[0;34m\u001b[0m\u001b[0m\n",
      "\u001b[0;32mpandas/_libs/index.pyx\u001b[0m in \u001b[0;36mpandas._libs.index.IndexEngine.get_loc\u001b[0;34m()\u001b[0m\n",
      "\u001b[0;32mpandas/_libs/index.pyx\u001b[0m in \u001b[0;36mpandas._libs.index.IndexEngine.get_loc\u001b[0;34m()\u001b[0m\n",
      "\u001b[0;32mpandas/_libs/hashtable_class_helper.pxi\u001b[0m in \u001b[0;36mpandas._libs.hashtable.PyObjectHashTable.get_item\u001b[0;34m()\u001b[0m\n",
      "\u001b[0;32mpandas/_libs/hashtable_class_helper.pxi\u001b[0m in \u001b[0;36mpandas._libs.hashtable.PyObjectHashTable.get_item\u001b[0;34m()\u001b[0m\n",
      "\u001b[0;31mKeyError\u001b[0m: 'average_heartrate'",
      "\nDuring handling of the above exception, another exception occurred:\n",
      "\u001b[0;31mKeyError\u001b[0m                Traceback (most recent call last)",
      "\u001b[0;32m<ipython-input-78-a188c3191bb2>\u001b[0m in \u001b[0;36m<module>\u001b[0;34m\u001b[0m\n\u001b[0;32m----> 1\u001b[0;31m \u001b[0mstrava_df_hr_data\u001b[0m \u001b[0;34m=\u001b[0m \u001b[0mstrava_df\u001b[0m\u001b[0;34m[\u001b[0m\u001b[0mstrava_df\u001b[0m\u001b[0;34m[\u001b[0m\u001b[0;34m'average_heartrate'\u001b[0m\u001b[0;34m]\u001b[0m\u001b[0;34m.\u001b[0m\u001b[0mnotnull\u001b[0m\u001b[0;34m(\u001b[0m\u001b[0;34m)\u001b[0m\u001b[0;34m]\u001b[0m\u001b[0;34m\u001b[0m\u001b[0;34m\u001b[0m\u001b[0m\n\u001b[0m\u001b[1;32m      2\u001b[0m \u001b[0mstrava_df_no_hr_data\u001b[0m \u001b[0;34m=\u001b[0m \u001b[0mstrava_df\u001b[0m\u001b[0;34m[\u001b[0m\u001b[0mstrava_df\u001b[0m\u001b[0;34m[\u001b[0m\u001b[0;34m'average_heartrate'\u001b[0m\u001b[0;34m]\u001b[0m\u001b[0;34m.\u001b[0m\u001b[0misna\u001b[0m\u001b[0;34m(\u001b[0m\u001b[0;34m)\u001b[0m\u001b[0;34m]\u001b[0m\u001b[0;34m\u001b[0m\u001b[0;34m\u001b[0m\u001b[0m\n",
      "\u001b[0;32m~/anaconda3/lib/python3.7/site-packages/pandas/core/frame.py\u001b[0m in \u001b[0;36m__getitem__\u001b[0;34m(self, key)\u001b[0m\n\u001b[1;32m   2978\u001b[0m             \u001b[0;32mif\u001b[0m \u001b[0mself\u001b[0m\u001b[0;34m.\u001b[0m\u001b[0mcolumns\u001b[0m\u001b[0;34m.\u001b[0m\u001b[0mnlevels\u001b[0m \u001b[0;34m>\u001b[0m \u001b[0;36m1\u001b[0m\u001b[0;34m:\u001b[0m\u001b[0;34m\u001b[0m\u001b[0;34m\u001b[0m\u001b[0m\n\u001b[1;32m   2979\u001b[0m                 \u001b[0;32mreturn\u001b[0m \u001b[0mself\u001b[0m\u001b[0;34m.\u001b[0m\u001b[0m_getitem_multilevel\u001b[0m\u001b[0;34m(\u001b[0m\u001b[0mkey\u001b[0m\u001b[0;34m)\u001b[0m\u001b[0;34m\u001b[0m\u001b[0;34m\u001b[0m\u001b[0m\n\u001b[0;32m-> 2980\u001b[0;31m             \u001b[0mindexer\u001b[0m \u001b[0;34m=\u001b[0m \u001b[0mself\u001b[0m\u001b[0;34m.\u001b[0m\u001b[0mcolumns\u001b[0m\u001b[0;34m.\u001b[0m\u001b[0mget_loc\u001b[0m\u001b[0;34m(\u001b[0m\u001b[0mkey\u001b[0m\u001b[0;34m)\u001b[0m\u001b[0;34m\u001b[0m\u001b[0;34m\u001b[0m\u001b[0m\n\u001b[0m\u001b[1;32m   2981\u001b[0m             \u001b[0;32mif\u001b[0m \u001b[0mis_integer\u001b[0m\u001b[0;34m(\u001b[0m\u001b[0mindexer\u001b[0m\u001b[0;34m)\u001b[0m\u001b[0;34m:\u001b[0m\u001b[0;34m\u001b[0m\u001b[0;34m\u001b[0m\u001b[0m\n\u001b[1;32m   2982\u001b[0m                 \u001b[0mindexer\u001b[0m \u001b[0;34m=\u001b[0m \u001b[0;34m[\u001b[0m\u001b[0mindexer\u001b[0m\u001b[0;34m]\u001b[0m\u001b[0;34m\u001b[0m\u001b[0;34m\u001b[0m\u001b[0m\n",
      "\u001b[0;32m~/anaconda3/lib/python3.7/site-packages/pandas/core/indexes/base.py\u001b[0m in \u001b[0;36mget_loc\u001b[0;34m(self, key, method, tolerance)\u001b[0m\n\u001b[1;32m   2897\u001b[0m                 \u001b[0;32mreturn\u001b[0m \u001b[0mself\u001b[0m\u001b[0;34m.\u001b[0m\u001b[0m_engine\u001b[0m\u001b[0;34m.\u001b[0m\u001b[0mget_loc\u001b[0m\u001b[0;34m(\u001b[0m\u001b[0mkey\u001b[0m\u001b[0;34m)\u001b[0m\u001b[0;34m\u001b[0m\u001b[0;34m\u001b[0m\u001b[0m\n\u001b[1;32m   2898\u001b[0m             \u001b[0;32mexcept\u001b[0m \u001b[0mKeyError\u001b[0m\u001b[0;34m:\u001b[0m\u001b[0;34m\u001b[0m\u001b[0;34m\u001b[0m\u001b[0m\n\u001b[0;32m-> 2899\u001b[0;31m                 \u001b[0;32mreturn\u001b[0m \u001b[0mself\u001b[0m\u001b[0;34m.\u001b[0m\u001b[0m_engine\u001b[0m\u001b[0;34m.\u001b[0m\u001b[0mget_loc\u001b[0m\u001b[0;34m(\u001b[0m\u001b[0mself\u001b[0m\u001b[0;34m.\u001b[0m\u001b[0m_maybe_cast_indexer\u001b[0m\u001b[0;34m(\u001b[0m\u001b[0mkey\u001b[0m\u001b[0;34m)\u001b[0m\u001b[0;34m)\u001b[0m\u001b[0;34m\u001b[0m\u001b[0;34m\u001b[0m\u001b[0m\n\u001b[0m\u001b[1;32m   2900\u001b[0m         \u001b[0mindexer\u001b[0m \u001b[0;34m=\u001b[0m \u001b[0mself\u001b[0m\u001b[0;34m.\u001b[0m\u001b[0mget_indexer\u001b[0m\u001b[0;34m(\u001b[0m\u001b[0;34m[\u001b[0m\u001b[0mkey\u001b[0m\u001b[0;34m]\u001b[0m\u001b[0;34m,\u001b[0m \u001b[0mmethod\u001b[0m\u001b[0;34m=\u001b[0m\u001b[0mmethod\u001b[0m\u001b[0;34m,\u001b[0m \u001b[0mtolerance\u001b[0m\u001b[0;34m=\u001b[0m\u001b[0mtolerance\u001b[0m\u001b[0;34m)\u001b[0m\u001b[0;34m\u001b[0m\u001b[0;34m\u001b[0m\u001b[0m\n\u001b[1;32m   2901\u001b[0m         \u001b[0;32mif\u001b[0m \u001b[0mindexer\u001b[0m\u001b[0;34m.\u001b[0m\u001b[0mndim\u001b[0m \u001b[0;34m>\u001b[0m \u001b[0;36m1\u001b[0m \u001b[0;32mor\u001b[0m \u001b[0mindexer\u001b[0m\u001b[0;34m.\u001b[0m\u001b[0msize\u001b[0m \u001b[0;34m>\u001b[0m \u001b[0;36m1\u001b[0m\u001b[0;34m:\u001b[0m\u001b[0;34m\u001b[0m\u001b[0;34m\u001b[0m\u001b[0m\n",
      "\u001b[0;32mpandas/_libs/index.pyx\u001b[0m in \u001b[0;36mpandas._libs.index.IndexEngine.get_loc\u001b[0;34m()\u001b[0m\n",
      "\u001b[0;32mpandas/_libs/index.pyx\u001b[0m in \u001b[0;36mpandas._libs.index.IndexEngine.get_loc\u001b[0;34m()\u001b[0m\n",
      "\u001b[0;32mpandas/_libs/hashtable_class_helper.pxi\u001b[0m in \u001b[0;36mpandas._libs.hashtable.PyObjectHashTable.get_item\u001b[0;34m()\u001b[0m\n",
      "\u001b[0;32mpandas/_libs/hashtable_class_helper.pxi\u001b[0m in \u001b[0;36mpandas._libs.hashtable.PyObjectHashTable.get_item\u001b[0;34m()\u001b[0m\n",
      "\u001b[0;31mKeyError\u001b[0m: 'average_heartrate'"
     ]
    }
   ],
   "source": [
    "strava_df_hr_data = strava_df[strava_df['average_heartrate'].notnull()]\n",
    "strava_df_no_hr_data = strava_df[strava_df['average_heartrate'].isna()]"
   ]
  },
  {
   "cell_type": "code",
   "execution_count": null,
   "metadata": {},
   "outputs": [],
   "source": []
  },
  {
   "cell_type": "code",
   "execution_count": null,
   "metadata": {},
   "outputs": [],
   "source": []
  },
  {
   "cell_type": "code",
   "execution_count": null,
   "metadata": {},
   "outputs": [],
   "source": [
    "strava_df_no_hr_data"
   ]
  },
  {
   "cell_type": "code",
   "execution_count": null,
   "metadata": {},
   "outputs": [],
   "source": [
    "sns.countplot(strava_df['type'])\n",
    "plt.title('Types of activities')"
   ]
  },
  {
   "cell_type": "code",
   "execution_count": null,
   "metadata": {},
   "outputs": [],
   "source": [
    "sns.pairplot(strava_df, hue='type')"
   ]
  },
  {
   "cell_type": "code",
   "execution_count": null,
   "metadata": {},
   "outputs": [],
   "source": [
    "corr = strava_df.corr()\n",
    "plt.figure(figsize = (12,8))\n",
    "sns.heatmap(corr, annot=True, fmt=\".2f\")"
   ]
  },
  {
   "cell_type": "code",
   "execution_count": null,
   "metadata": {},
   "outputs": [],
   "source": [
    "trends = strava_df.copy()"
   ]
  },
  {
   "cell_type": "code",
   "execution_count": null,
   "metadata": {},
   "outputs": [],
   "source": [
    "trends"
   ]
  },
  {
   "cell_type": "code",
   "execution_count": null,
   "metadata": {},
   "outputs": [],
   "source": [
    "trends.set_index(pd.to_datetime(trends.start_date_local), drop=True, inplace=True)"
   ]
  },
  {
   "cell_type": "code",
   "execution_count": null,
   "metadata": {},
   "outputs": [],
   "source": [
    "trends"
   ]
  },
  {
   "cell_type": "code",
   "execution_count": null,
   "metadata": {},
   "outputs": [],
   "source": [
    "trends['weekday'] = trends.index.map(lambda x: x.weekday)"
   ]
  },
  {
   "cell_type": "code",
   "execution_count": null,
   "metadata": {},
   "outputs": [],
   "source": [
    "trends.groupby('weekday').mean()"
   ]
  },
  {
   "cell_type": "code",
   "execution_count": null,
   "metadata": {},
   "outputs": [],
   "source": [
    "trends.groupby('weekday').mean()['total_minutes'].plot(kind='bar')"
   ]
  },
  {
   "cell_type": "code",
   "execution_count": null,
   "metadata": {},
   "outputs": [],
   "source": [
    "import calendar\n",
    "list(calendar.day_name)"
   ]
  },
  {
   "cell_type": "code",
   "execution_count": null,
   "metadata": {},
   "outputs": [],
   "source": [
    "trends.groupby('weekday').mean()['total_minutes'].plot(kind='bar', figsize=(12,5));\n",
    "plt.xticks(list(range(7)), list(calendar.day_name), rotation='horizontal');\n",
    "plt.xlabel('')\n",
    "plt.ylabel('Time in minutes')\n",
    "plt.title('Average training time by day of the week')"
   ]
  },
  {
   "cell_type": "code",
   "execution_count": null,
   "metadata": {},
   "outputs": [],
   "source": [
    "trends['year'] = trends.index.map(lambda x: x.year)"
   ]
  },
  {
   "cell_type": "code",
   "execution_count": null,
   "metadata": {},
   "outputs": [],
   "source": [
    "grouped = trends.groupby(['year', 'type']).mean()\n",
    "grouped"
   ]
  },
  {
   "cell_type": "code",
   "execution_count": null,
   "metadata": {},
   "outputs": [],
   "source": [
    "grouped['total_minutes'].plot(kind='bar');"
   ]
  },
  {
   "cell_type": "code",
   "execution_count": null,
   "metadata": {},
   "outputs": [],
   "source": [
    "grouped['total_minutes'].unstack('type')"
   ]
  },
  {
   "cell_type": "code",
   "execution_count": null,
   "metadata": {},
   "outputs": [],
   "source": [
    "result = grouped['total_minutes'].unstack('type').fillna(0)"
   ]
  },
  {
   "cell_type": "code",
   "execution_count": null,
   "metadata": {},
   "outputs": [],
   "source": [
    "result.plot(kind='bar', stacked=True)\n",
    "plt.title('Yearly average for cycling and running');"
   ]
  },
  {
   "cell_type": "code",
   "execution_count": null,
   "metadata": {},
   "outputs": [],
   "source": [
    "strava_df = strava_df[strava_df['type']==\"Ride\"]\n",
    "strava_df.drop(['type'], axis=1, inplace=True)\n",
    "strava_df.head()"
   ]
  },
  {
   "cell_type": "code",
   "execution_count": null,
   "metadata": {},
   "outputs": [],
   "source": [
    "cols = ['average_watts', 'distance', 'total_elevation_gain','total_minutes' ]\n",
    "sns.pairplot(x_vars=cols, y_vars=cols, data=strava_df, size=5);"
   ]
  },
  {
   "cell_type": "code",
   "execution_count": null,
   "metadata": {},
   "outputs": [],
   "source": [
    "import sklearn\n",
    "from sklearn.preprocessing import StandardScaler\n",
    "strava_df = strava_df[cols]\n",
    "X = StandardScaler().fit_transform(strava_df)"
   ]
  },
  {
   "cell_type": "code",
   "execution_count": null,
   "metadata": {},
   "outputs": [],
   "source": [
    "from sklearn.cluster import KMeans\n",
    "from sklearn.cluster import \n",
    "model = KMeans(n_clusters=4)\n",
    "model.fit(X)\n",
    "strava_df['Cluster'] = model.labels_"
   ]
  },
  {
   "cell_type": "code",
   "execution_count": null,
   "metadata": {},
   "outputs": [],
   "source": [
    "sns.pairplot(x_vars=cols, y_vars=cols, hue='Cluster', data=strava_df);"
   ]
  },
  {
   "cell_type": "code",
   "execution_count": null,
   "metadata": {},
   "outputs": [],
   "source": [
    "strava_df.groupby('Cluster').mean()"
   ]
  },
  {
   "cell_type": "code",
   "execution_count": null,
   "metadata": {},
   "outputs": [],
   "source": [
    "strava_df.groupby('Cluster').std()"
   ]
  },
  {
   "cell_type": "code",
   "execution_count": null,
   "metadata": {},
   "outputs": [],
   "source": [
    "sleep_dir = os.walk('Sleep')"
   ]
  },
  {
   "cell_type": "code",
   "execution_count": null,
   "metadata": {},
   "outputs": [],
   "source": [
    "sleep_jsons = []\n",
    "for root, dirs, files in sleep_dir:\n",
    "    for name in files:\n",
    "        file = os.path.join(root, name)\n",
    "        if 'json' in file:\n",
    "            sleep_jsons.append(os.path.join(root, name)) \n",
    "    for name in dirs:\n",
    "        print(os.path.join(root, name))"
   ]
  },
  {
   "cell_type": "code",
   "execution_count": null,
   "metadata": {},
   "outputs": [],
   "source": [
    "sleep_info = []\n",
    "for j in sleep_jsons:\n",
    "    f = json.load(open(j,'r'))\n",
    "    for s in f:\n",
    "        if s['mainSleep']:\n",
    "            try:\n",
    "                date_dict = {}\n",
    "                for i in s: \n",
    "                    if i == 'dateOfSleep':\n",
    "                        date_dict['date'] = s[i]\n",
    "                    elif i =='levels':\n",
    "                        date_dict['deep'] = s[i]['summary']['deep']['minutes']\n",
    "                        date_dict['wake'] = s[i]['summary']['wake']['minutes']\n",
    "                        date_dict['light'] = s[i]['summary']['light']['minutes']\n",
    "                        date_dict['rem'] = s[i]['summary']['rem']['minutes']\n",
    "                sleep_info.append(date_dict)\n",
    "            except:\n",
    "                KeyError"
   ]
  },
  {
   "cell_type": "code",
   "execution_count": null,
   "metadata": {},
   "outputs": [],
   "source": [
    "# sleep_df = pd.DataFrame(data=date_dict,columns=['date','deep','wake','light','rem'], axis=1)\n",
    "sleep_df = pd.DataFrame(data=sleep_info,columns=['date','deep','wake','light','rem']) "
   ]
  },
  {
   "cell_type": "code",
   "execution_count": null,
   "metadata": {},
   "outputs": [],
   "source": [
    "sleep_df['date'] = pd.to_datetime(sleep_df['date'])"
   ]
  },
  {
   "cell_type": "code",
   "execution_count": null,
   "metadata": {},
   "outputs": [],
   "source": [
    "sleep_df.sort_values(by='date', inplace=True)"
   ]
  },
  {
   "cell_type": "code",
   "execution_count": null,
   "metadata": {},
   "outputs": [],
   "source": [
    "sleep_df['date'] = sleep_df['date'].astype('str')"
   ]
  },
  {
   "cell_type": "code",
   "execution_count": null,
   "metadata": {},
   "outputs": [],
   "source": [
    "sleep_df"
   ]
  }
 ],
 "metadata": {
  "kernelspec": {
   "display_name": "Python 3",
   "language": "python",
   "name": "python3"
  },
  "language_info": {
   "codemirror_mode": {
    "name": "ipython",
    "version": 3
   },
   "file_extension": ".py",
   "mimetype": "text/x-python",
   "name": "python",
   "nbconvert_exporter": "python",
   "pygments_lexer": "ipython3",
   "version": "3.7.4"
  }
 },
 "nbformat": 4,
 "nbformat_minor": 4
}
